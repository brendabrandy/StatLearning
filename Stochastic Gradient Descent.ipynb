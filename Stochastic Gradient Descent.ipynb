{
 "cells": [
  {
   "cell_type": "markdown",
   "metadata": {},
   "source": [
    "The aim of this notebook is to demonstrate how to implement logistic regression with stochastic gradient descent. \n",
    "\n",
    "In this project, we are trying to do gender voice recognition with logistic regression. The data is obtained from kaggle, where each voice signal has already been analyzed and the data about the voice samples are recorded numerically. "
   ]
  },
  {
   "cell_type": "markdown",
   "metadata": {},
   "source": [
    "# Prepare notebook and import data"
   ]
  },
  {
   "cell_type": "code",
   "execution_count": 56,
   "metadata": {
    "collapsed": true
   },
   "outputs": [],
   "source": [
    "%matplotlib inline\n",
    "import pandas as pd\n",
    "import numpy as np\n",
    "import matplotlib.pyplot as plt\n",
    "from random import *\n",
    "from math import *"
   ]
  },
  {
   "cell_type": "code",
   "execution_count": 20,
   "metadata": {
    "collapsed": false
   },
   "outputs": [
    {
     "data": {
      "text/plain": [
       "(3168, 21)"
      ]
     },
     "execution_count": 20,
     "metadata": {},
     "output_type": "execute_result"
    }
   ],
   "source": [
    "# import the data and see what is in there (first ten lines)\n",
    "\n",
    "df_voice=pd.read_csv(\"voice.csv\")\n",
    "df_voice.shape"
   ]
  },
  {
   "cell_type": "markdown",
   "metadata": {},
   "source": [
    "Taking a look at the dataframe itself:"
   ]
  },
  {
   "cell_type": "code",
   "execution_count": 21,
   "metadata": {
    "collapsed": false
   },
   "outputs": [
    {
     "data": {
      "text/html": [
       "<div>\n",
       "<table border=\"1\" class=\"dataframe\">\n",
       "  <thead>\n",
       "    <tr style=\"text-align: right;\">\n",
       "      <th></th>\n",
       "      <th>meanfreq</th>\n",
       "      <th>sd</th>\n",
       "      <th>median</th>\n",
       "      <th>Q25</th>\n",
       "      <th>Q75</th>\n",
       "      <th>IQR</th>\n",
       "      <th>skew</th>\n",
       "      <th>kurt</th>\n",
       "      <th>sp.ent</th>\n",
       "      <th>sfm</th>\n",
       "      <th>...</th>\n",
       "      <th>centroid</th>\n",
       "      <th>meanfun</th>\n",
       "      <th>minfun</th>\n",
       "      <th>maxfun</th>\n",
       "      <th>meandom</th>\n",
       "      <th>mindom</th>\n",
       "      <th>maxdom</th>\n",
       "      <th>dfrange</th>\n",
       "      <th>modindx</th>\n",
       "      <th>label</th>\n",
       "    </tr>\n",
       "  </thead>\n",
       "  <tbody>\n",
       "    <tr>\n",
       "      <th>0</th>\n",
       "      <td>0.059781</td>\n",
       "      <td>0.064241</td>\n",
       "      <td>0.032027</td>\n",
       "      <td>0.015071</td>\n",
       "      <td>0.090193</td>\n",
       "      <td>0.075122</td>\n",
       "      <td>12.863462</td>\n",
       "      <td>274.402906</td>\n",
       "      <td>0.893369</td>\n",
       "      <td>0.491918</td>\n",
       "      <td>...</td>\n",
       "      <td>0.059781</td>\n",
       "      <td>0.084279</td>\n",
       "      <td>0.015702</td>\n",
       "      <td>0.275862</td>\n",
       "      <td>0.007812</td>\n",
       "      <td>0.007812</td>\n",
       "      <td>0.007812</td>\n",
       "      <td>0.000000</td>\n",
       "      <td>0.000000</td>\n",
       "      <td>male</td>\n",
       "    </tr>\n",
       "    <tr>\n",
       "      <th>1</th>\n",
       "      <td>0.066009</td>\n",
       "      <td>0.067310</td>\n",
       "      <td>0.040229</td>\n",
       "      <td>0.019414</td>\n",
       "      <td>0.092666</td>\n",
       "      <td>0.073252</td>\n",
       "      <td>22.423285</td>\n",
       "      <td>634.613855</td>\n",
       "      <td>0.892193</td>\n",
       "      <td>0.513724</td>\n",
       "      <td>...</td>\n",
       "      <td>0.066009</td>\n",
       "      <td>0.107937</td>\n",
       "      <td>0.015826</td>\n",
       "      <td>0.250000</td>\n",
       "      <td>0.009014</td>\n",
       "      <td>0.007812</td>\n",
       "      <td>0.054688</td>\n",
       "      <td>0.046875</td>\n",
       "      <td>0.052632</td>\n",
       "      <td>male</td>\n",
       "    </tr>\n",
       "    <tr>\n",
       "      <th>2</th>\n",
       "      <td>0.077316</td>\n",
       "      <td>0.083829</td>\n",
       "      <td>0.036718</td>\n",
       "      <td>0.008701</td>\n",
       "      <td>0.131908</td>\n",
       "      <td>0.123207</td>\n",
       "      <td>30.757155</td>\n",
       "      <td>1024.927705</td>\n",
       "      <td>0.846389</td>\n",
       "      <td>0.478905</td>\n",
       "      <td>...</td>\n",
       "      <td>0.077316</td>\n",
       "      <td>0.098706</td>\n",
       "      <td>0.015656</td>\n",
       "      <td>0.271186</td>\n",
       "      <td>0.007990</td>\n",
       "      <td>0.007812</td>\n",
       "      <td>0.015625</td>\n",
       "      <td>0.007812</td>\n",
       "      <td>0.046512</td>\n",
       "      <td>male</td>\n",
       "    </tr>\n",
       "    <tr>\n",
       "      <th>3</th>\n",
       "      <td>0.151228</td>\n",
       "      <td>0.072111</td>\n",
       "      <td>0.158011</td>\n",
       "      <td>0.096582</td>\n",
       "      <td>0.207955</td>\n",
       "      <td>0.111374</td>\n",
       "      <td>1.232831</td>\n",
       "      <td>4.177296</td>\n",
       "      <td>0.963322</td>\n",
       "      <td>0.727232</td>\n",
       "      <td>...</td>\n",
       "      <td>0.151228</td>\n",
       "      <td>0.088965</td>\n",
       "      <td>0.017798</td>\n",
       "      <td>0.250000</td>\n",
       "      <td>0.201497</td>\n",
       "      <td>0.007812</td>\n",
       "      <td>0.562500</td>\n",
       "      <td>0.554688</td>\n",
       "      <td>0.247119</td>\n",
       "      <td>male</td>\n",
       "    </tr>\n",
       "    <tr>\n",
       "      <th>4</th>\n",
       "      <td>0.135120</td>\n",
       "      <td>0.079146</td>\n",
       "      <td>0.124656</td>\n",
       "      <td>0.078720</td>\n",
       "      <td>0.206045</td>\n",
       "      <td>0.127325</td>\n",
       "      <td>1.101174</td>\n",
       "      <td>4.333713</td>\n",
       "      <td>0.971955</td>\n",
       "      <td>0.783568</td>\n",
       "      <td>...</td>\n",
       "      <td>0.135120</td>\n",
       "      <td>0.106398</td>\n",
       "      <td>0.016931</td>\n",
       "      <td>0.266667</td>\n",
       "      <td>0.712812</td>\n",
       "      <td>0.007812</td>\n",
       "      <td>5.484375</td>\n",
       "      <td>5.476562</td>\n",
       "      <td>0.208274</td>\n",
       "      <td>male</td>\n",
       "    </tr>\n",
       "  </tbody>\n",
       "</table>\n",
       "<p>5 rows × 21 columns</p>\n",
       "</div>"
      ],
      "text/plain": [
       "   meanfreq        sd    median       Q25       Q75       IQR       skew  \\\n",
       "0  0.059781  0.064241  0.032027  0.015071  0.090193  0.075122  12.863462   \n",
       "1  0.066009  0.067310  0.040229  0.019414  0.092666  0.073252  22.423285   \n",
       "2  0.077316  0.083829  0.036718  0.008701  0.131908  0.123207  30.757155   \n",
       "3  0.151228  0.072111  0.158011  0.096582  0.207955  0.111374   1.232831   \n",
       "4  0.135120  0.079146  0.124656  0.078720  0.206045  0.127325   1.101174   \n",
       "\n",
       "          kurt    sp.ent       sfm  ...    centroid   meanfun    minfun  \\\n",
       "0   274.402906  0.893369  0.491918  ...    0.059781  0.084279  0.015702   \n",
       "1   634.613855  0.892193  0.513724  ...    0.066009  0.107937  0.015826   \n",
       "2  1024.927705  0.846389  0.478905  ...    0.077316  0.098706  0.015656   \n",
       "3     4.177296  0.963322  0.727232  ...    0.151228  0.088965  0.017798   \n",
       "4     4.333713  0.971955  0.783568  ...    0.135120  0.106398  0.016931   \n",
       "\n",
       "     maxfun   meandom    mindom    maxdom   dfrange   modindx  label  \n",
       "0  0.275862  0.007812  0.007812  0.007812  0.000000  0.000000   male  \n",
       "1  0.250000  0.009014  0.007812  0.054688  0.046875  0.052632   male  \n",
       "2  0.271186  0.007990  0.007812  0.015625  0.007812  0.046512   male  \n",
       "3  0.250000  0.201497  0.007812  0.562500  0.554688  0.247119   male  \n",
       "4  0.266667  0.712812  0.007812  5.484375  5.476562  0.208274   male  \n",
       "\n",
       "[5 rows x 21 columns]"
      ]
     },
     "execution_count": 21,
     "metadata": {},
     "output_type": "execute_result"
    }
   ],
   "source": [
    "df_voice.head()"
   ]
  },
  {
   "cell_type": "markdown",
   "metadata": {},
   "source": [
    "All the variables are represented below:"
   ]
  },
  {
   "cell_type": "code",
   "execution_count": 22,
   "metadata": {
    "collapsed": false
   },
   "outputs": [
    {
     "data": {
      "text/plain": [
       "['meanfreq',\n",
       " 'sd',\n",
       " 'median',\n",
       " 'Q25',\n",
       " 'Q75',\n",
       " 'IQR',\n",
       " 'skew',\n",
       " 'kurt',\n",
       " 'sp.ent',\n",
       " 'sfm',\n",
       " 'mode',\n",
       " 'centroid',\n",
       " 'meanfun',\n",
       " 'minfun',\n",
       " 'maxfun',\n",
       " 'meandom',\n",
       " 'mindom',\n",
       " 'maxdom',\n",
       " 'dfrange',\n",
       " 'modindx',\n",
       " 'label']"
      ]
     },
     "execution_count": 22,
     "metadata": {},
     "output_type": "execute_result"
    }
   ],
   "source": [
    "list(df_voice.columns)"
   ]
  },
  {
   "cell_type": "markdown",
   "metadata": {},
   "source": [
    "Since label is now a categorical data, split into males and females, it would be beneficial to convert them to 0 and 1, where 0 represent females and 1 represent males"
   ]
  },
  {
   "cell_type": "code",
   "execution_count": 23,
   "metadata": {
    "collapsed": false
   },
   "outputs": [],
   "source": [
    "gender_dict = {\"male\":1.0, \"female\":0.0}\n",
    "df_voice[\"gender\"] = df_voice[\"label\"].map(gender_dict);\n",
    "df_voice = df_voice.drop(\"label\",1)"
   ]
  },
  {
   "cell_type": "code",
   "execution_count": 24,
   "metadata": {
    "collapsed": false
   },
   "outputs": [
    {
     "data": {
      "text/html": [
       "<div>\n",
       "<table border=\"1\" class=\"dataframe\">\n",
       "  <thead>\n",
       "    <tr style=\"text-align: right;\">\n",
       "      <th></th>\n",
       "      <th>meanfreq</th>\n",
       "      <th>sd</th>\n",
       "      <th>median</th>\n",
       "      <th>Q25</th>\n",
       "      <th>Q75</th>\n",
       "      <th>IQR</th>\n",
       "      <th>skew</th>\n",
       "      <th>kurt</th>\n",
       "      <th>sp.ent</th>\n",
       "      <th>sfm</th>\n",
       "      <th>...</th>\n",
       "      <th>centroid</th>\n",
       "      <th>meanfun</th>\n",
       "      <th>minfun</th>\n",
       "      <th>maxfun</th>\n",
       "      <th>meandom</th>\n",
       "      <th>mindom</th>\n",
       "      <th>maxdom</th>\n",
       "      <th>dfrange</th>\n",
       "      <th>modindx</th>\n",
       "      <th>gender</th>\n",
       "    </tr>\n",
       "  </thead>\n",
       "  <tbody>\n",
       "    <tr>\n",
       "      <th>0</th>\n",
       "      <td>0.059781</td>\n",
       "      <td>0.064241</td>\n",
       "      <td>0.032027</td>\n",
       "      <td>0.015071</td>\n",
       "      <td>0.090193</td>\n",
       "      <td>0.075122</td>\n",
       "      <td>12.863462</td>\n",
       "      <td>274.402906</td>\n",
       "      <td>0.893369</td>\n",
       "      <td>0.491918</td>\n",
       "      <td>...</td>\n",
       "      <td>0.059781</td>\n",
       "      <td>0.084279</td>\n",
       "      <td>0.015702</td>\n",
       "      <td>0.275862</td>\n",
       "      <td>0.007812</td>\n",
       "      <td>0.007812</td>\n",
       "      <td>0.007812</td>\n",
       "      <td>0.000000</td>\n",
       "      <td>0.000000</td>\n",
       "      <td>1.0</td>\n",
       "    </tr>\n",
       "    <tr>\n",
       "      <th>1</th>\n",
       "      <td>0.066009</td>\n",
       "      <td>0.067310</td>\n",
       "      <td>0.040229</td>\n",
       "      <td>0.019414</td>\n",
       "      <td>0.092666</td>\n",
       "      <td>0.073252</td>\n",
       "      <td>22.423285</td>\n",
       "      <td>634.613855</td>\n",
       "      <td>0.892193</td>\n",
       "      <td>0.513724</td>\n",
       "      <td>...</td>\n",
       "      <td>0.066009</td>\n",
       "      <td>0.107937</td>\n",
       "      <td>0.015826</td>\n",
       "      <td>0.250000</td>\n",
       "      <td>0.009014</td>\n",
       "      <td>0.007812</td>\n",
       "      <td>0.054688</td>\n",
       "      <td>0.046875</td>\n",
       "      <td>0.052632</td>\n",
       "      <td>1.0</td>\n",
       "    </tr>\n",
       "    <tr>\n",
       "      <th>2</th>\n",
       "      <td>0.077316</td>\n",
       "      <td>0.083829</td>\n",
       "      <td>0.036718</td>\n",
       "      <td>0.008701</td>\n",
       "      <td>0.131908</td>\n",
       "      <td>0.123207</td>\n",
       "      <td>30.757155</td>\n",
       "      <td>1024.927705</td>\n",
       "      <td>0.846389</td>\n",
       "      <td>0.478905</td>\n",
       "      <td>...</td>\n",
       "      <td>0.077316</td>\n",
       "      <td>0.098706</td>\n",
       "      <td>0.015656</td>\n",
       "      <td>0.271186</td>\n",
       "      <td>0.007990</td>\n",
       "      <td>0.007812</td>\n",
       "      <td>0.015625</td>\n",
       "      <td>0.007812</td>\n",
       "      <td>0.046512</td>\n",
       "      <td>1.0</td>\n",
       "    </tr>\n",
       "    <tr>\n",
       "      <th>3</th>\n",
       "      <td>0.151228</td>\n",
       "      <td>0.072111</td>\n",
       "      <td>0.158011</td>\n",
       "      <td>0.096582</td>\n",
       "      <td>0.207955</td>\n",
       "      <td>0.111374</td>\n",
       "      <td>1.232831</td>\n",
       "      <td>4.177296</td>\n",
       "      <td>0.963322</td>\n",
       "      <td>0.727232</td>\n",
       "      <td>...</td>\n",
       "      <td>0.151228</td>\n",
       "      <td>0.088965</td>\n",
       "      <td>0.017798</td>\n",
       "      <td>0.250000</td>\n",
       "      <td>0.201497</td>\n",
       "      <td>0.007812</td>\n",
       "      <td>0.562500</td>\n",
       "      <td>0.554688</td>\n",
       "      <td>0.247119</td>\n",
       "      <td>1.0</td>\n",
       "    </tr>\n",
       "    <tr>\n",
       "      <th>4</th>\n",
       "      <td>0.135120</td>\n",
       "      <td>0.079146</td>\n",
       "      <td>0.124656</td>\n",
       "      <td>0.078720</td>\n",
       "      <td>0.206045</td>\n",
       "      <td>0.127325</td>\n",
       "      <td>1.101174</td>\n",
       "      <td>4.333713</td>\n",
       "      <td>0.971955</td>\n",
       "      <td>0.783568</td>\n",
       "      <td>...</td>\n",
       "      <td>0.135120</td>\n",
       "      <td>0.106398</td>\n",
       "      <td>0.016931</td>\n",
       "      <td>0.266667</td>\n",
       "      <td>0.712812</td>\n",
       "      <td>0.007812</td>\n",
       "      <td>5.484375</td>\n",
       "      <td>5.476562</td>\n",
       "      <td>0.208274</td>\n",
       "      <td>1.0</td>\n",
       "    </tr>\n",
       "  </tbody>\n",
       "</table>\n",
       "<p>5 rows × 21 columns</p>\n",
       "</div>"
      ],
      "text/plain": [
       "   meanfreq        sd    median       Q25       Q75       IQR       skew  \\\n",
       "0  0.059781  0.064241  0.032027  0.015071  0.090193  0.075122  12.863462   \n",
       "1  0.066009  0.067310  0.040229  0.019414  0.092666  0.073252  22.423285   \n",
       "2  0.077316  0.083829  0.036718  0.008701  0.131908  0.123207  30.757155   \n",
       "3  0.151228  0.072111  0.158011  0.096582  0.207955  0.111374   1.232831   \n",
       "4  0.135120  0.079146  0.124656  0.078720  0.206045  0.127325   1.101174   \n",
       "\n",
       "          kurt    sp.ent       sfm   ...    centroid   meanfun    minfun  \\\n",
       "0   274.402906  0.893369  0.491918   ...    0.059781  0.084279  0.015702   \n",
       "1   634.613855  0.892193  0.513724   ...    0.066009  0.107937  0.015826   \n",
       "2  1024.927705  0.846389  0.478905   ...    0.077316  0.098706  0.015656   \n",
       "3     4.177296  0.963322  0.727232   ...    0.151228  0.088965  0.017798   \n",
       "4     4.333713  0.971955  0.783568   ...    0.135120  0.106398  0.016931   \n",
       "\n",
       "     maxfun   meandom    mindom    maxdom   dfrange   modindx  gender  \n",
       "0  0.275862  0.007812  0.007812  0.007812  0.000000  0.000000     1.0  \n",
       "1  0.250000  0.009014  0.007812  0.054688  0.046875  0.052632     1.0  \n",
       "2  0.271186  0.007990  0.007812  0.015625  0.007812  0.046512     1.0  \n",
       "3  0.250000  0.201497  0.007812  0.562500  0.554688  0.247119     1.0  \n",
       "4  0.266667  0.712812  0.007812  5.484375  5.476562  0.208274     1.0  \n",
       "\n",
       "[5 rows x 21 columns]"
      ]
     },
     "execution_count": 24,
     "metadata": {},
     "output_type": "execute_result"
    }
   ],
   "source": [
    "df_voice.head()"
   ]
  },
  {
   "cell_type": "markdown",
   "metadata": {},
   "source": [
    "This is the data that we have, and from the data, we observe several problems:\n",
    "\n",
    "1. The data is listed in such a way that the male voices comes first and female voices comes later, therefore we need to shuffle the rows to ensure that both male and female voices are taken into account of the learning process.\n",
    "2. Males and females are label, and we need to change them into 0 and 1 so that we can fit the data into the logistic regression algorithm\n",
    "3. We need a set of testing data to test the algorithm. "
   ]
  },
  {
   "cell_type": "code",
   "execution_count": 25,
   "metadata": {
    "collapsed": false
   },
   "outputs": [],
   "source": [
    "df_voice = (df_voice - df_voice.mean()) / (df_voice.max() - df_voice.min())"
   ]
  },
  {
   "cell_type": "code",
   "execution_count": 26,
   "metadata": {
    "collapsed": true
   },
   "outputs": [],
   "source": [
    "gender_num_dict = {0.5:1.0, -0.5:0.0}\n",
    "df_voice[\"gender\"] = df_voice[\"gender\"].map(gender_num_dict);"
   ]
  },
  {
   "cell_type": "code",
   "execution_count": 27,
   "metadata": {
    "collapsed": false
   },
   "outputs": [],
   "source": [
    "df_voice = df_voice.iloc[np.random.permutation(len(df_voice))]"
   ]
  },
  {
   "cell_type": "code",
   "execution_count": 28,
   "metadata": {
    "collapsed": false
   },
   "outputs": [
    {
     "data": {
      "text/html": [
       "<div>\n",
       "<table border=\"1\" class=\"dataframe\">\n",
       "  <thead>\n",
       "    <tr style=\"text-align: right;\">\n",
       "      <th></th>\n",
       "      <th>meanfreq</th>\n",
       "      <th>sd</th>\n",
       "      <th>median</th>\n",
       "      <th>Q25</th>\n",
       "      <th>Q75</th>\n",
       "      <th>IQR</th>\n",
       "      <th>skew</th>\n",
       "      <th>kurt</th>\n",
       "      <th>sp.ent</th>\n",
       "      <th>sfm</th>\n",
       "      <th>...</th>\n",
       "      <th>centroid</th>\n",
       "      <th>meanfun</th>\n",
       "      <th>minfun</th>\n",
       "      <th>maxfun</th>\n",
       "      <th>meandom</th>\n",
       "      <th>mindom</th>\n",
       "      <th>maxdom</th>\n",
       "      <th>dfrange</th>\n",
       "      <th>modindx</th>\n",
       "      <th>gender</th>\n",
       "    </tr>\n",
       "  </thead>\n",
       "  <tbody>\n",
       "    <tr>\n",
       "      <th>35</th>\n",
       "      <td>-0.100945</td>\n",
       "      <td>0.187258</td>\n",
       "      <td>-0.154915</td>\n",
       "      <td>-0.077117</td>\n",
       "      <td>0.063359</td>\n",
       "      <td>0.141638</td>\n",
       "      <td>-0.033156</td>\n",
       "      <td>-0.022713</td>\n",
       "      <td>0.106866</td>\n",
       "      <td>0.216255</td>\n",
       "      <td>...</td>\n",
       "      <td>-0.100945</td>\n",
       "      <td>-0.123865</td>\n",
       "      <td>-0.094643</td>\n",
       "      <td>-0.513695</td>\n",
       "      <td>-0.154699</td>\n",
       "      <td>-0.098732</td>\n",
       "      <td>-0.111527</td>\n",
       "      <td>-0.109554</td>\n",
       "      <td>0.046189</td>\n",
       "      <td>1.0</td>\n",
       "    </tr>\n",
       "    <tr>\n",
       "      <th>627</th>\n",
       "      <td>-0.077168</td>\n",
       "      <td>0.098706</td>\n",
       "      <td>-0.062242</td>\n",
       "      <td>-0.088110</td>\n",
       "      <td>-0.018893</td>\n",
       "      <td>0.073288</td>\n",
       "      <td>-0.054276</td>\n",
       "      <td>-0.024488</td>\n",
       "      <td>0.271365</td>\n",
       "      <td>0.362597</td>\n",
       "      <td>...</td>\n",
       "      <td>-0.077168</td>\n",
       "      <td>-0.129024</td>\n",
       "      <td>-0.015679</td>\n",
       "      <td>0.019616</td>\n",
       "      <td>-0.215011</td>\n",
       "      <td>-0.098732</td>\n",
       "      <td>-0.199089</td>\n",
       "      <td>-0.197179</td>\n",
       "      <td>0.034188</td>\n",
       "      <td>1.0</td>\n",
       "    </tr>\n",
       "    <tr>\n",
       "      <th>1375</th>\n",
       "      <td>0.075031</td>\n",
       "      <td>0.006741</td>\n",
       "      <td>0.104885</td>\n",
       "      <td>0.020391</td>\n",
       "      <td>0.102318</td>\n",
       "      <td>0.078041</td>\n",
       "      <td>-0.056251</td>\n",
       "      <td>-0.024901</td>\n",
       "      <td>0.044442</td>\n",
       "      <td>-0.103720</td>\n",
       "      <td>...</td>\n",
       "      <td>0.075031</td>\n",
       "      <td>-0.071623</td>\n",
       "      <td>0.055186</td>\n",
       "      <td>0.114915</td>\n",
       "      <td>-0.059927</td>\n",
       "      <td>-0.064324</td>\n",
       "      <td>-0.019675</td>\n",
       "      <td>-0.018352</td>\n",
       "      <td>-0.076912</td>\n",
       "      <td>1.0</td>\n",
       "    </tr>\n",
       "    <tr>\n",
       "      <th>2425</th>\n",
       "      <td>0.181834</td>\n",
       "      <td>-0.201178</td>\n",
       "      <td>0.151694</td>\n",
       "      <td>0.272120</td>\n",
       "      <td>0.052881</td>\n",
       "      <td>-0.231650</td>\n",
       "      <td>-0.014459</td>\n",
       "      <td>-0.019957</td>\n",
       "      <td>-0.217464</td>\n",
       "      <td>-0.210421</td>\n",
       "      <td>...</td>\n",
       "      <td>0.181834</td>\n",
       "      <td>0.045072</td>\n",
       "      <td>0.053981</td>\n",
       "      <td>0.105751</td>\n",
       "      <td>0.581402</td>\n",
       "      <td>-0.064324</td>\n",
       "      <td>0.292333</td>\n",
       "      <td>0.293880</td>\n",
       "      <td>-0.032648</td>\n",
       "      <td>0.0</td>\n",
       "    </tr>\n",
       "    <tr>\n",
       "      <th>446</th>\n",
       "      <td>-0.010806</td>\n",
       "      <td>0.162614</td>\n",
       "      <td>0.079876</td>\n",
       "      <td>-0.059089</td>\n",
       "      <td>0.066089</td>\n",
       "      <td>0.125541</td>\n",
       "      <td>-0.042234</td>\n",
       "      <td>-0.023494</td>\n",
       "      <td>0.186387</td>\n",
       "      <td>0.240967</td>\n",
       "      <td>...</td>\n",
       "      <td>-0.010806</td>\n",
       "      <td>-0.173962</td>\n",
       "      <td>-0.106809</td>\n",
       "      <td>-0.561536</td>\n",
       "      <td>0.052686</td>\n",
       "      <td>-0.047120</td>\n",
       "      <td>0.074678</td>\n",
       "      <td>0.075711</td>\n",
       "      <td>0.044632</td>\n",
       "      <td>1.0</td>\n",
       "    </tr>\n",
       "  </tbody>\n",
       "</table>\n",
       "<p>5 rows × 21 columns</p>\n",
       "</div>"
      ],
      "text/plain": [
       "      meanfreq        sd    median       Q25       Q75       IQR      skew  \\\n",
       "35   -0.100945  0.187258 -0.154915 -0.077117  0.063359  0.141638 -0.033156   \n",
       "627  -0.077168  0.098706 -0.062242 -0.088110 -0.018893  0.073288 -0.054276   \n",
       "1375  0.075031  0.006741  0.104885  0.020391  0.102318  0.078041 -0.056251   \n",
       "2425  0.181834 -0.201178  0.151694  0.272120  0.052881 -0.231650 -0.014459   \n",
       "446  -0.010806  0.162614  0.079876 -0.059089  0.066089  0.125541 -0.042234   \n",
       "\n",
       "          kurt    sp.ent       sfm   ...    centroid   meanfun    minfun  \\\n",
       "35   -0.022713  0.106866  0.216255   ...   -0.100945 -0.123865 -0.094643   \n",
       "627  -0.024488  0.271365  0.362597   ...   -0.077168 -0.129024 -0.015679   \n",
       "1375 -0.024901  0.044442 -0.103720   ...    0.075031 -0.071623  0.055186   \n",
       "2425 -0.019957 -0.217464 -0.210421   ...    0.181834  0.045072  0.053981   \n",
       "446  -0.023494  0.186387  0.240967   ...   -0.010806 -0.173962 -0.106809   \n",
       "\n",
       "        maxfun   meandom    mindom    maxdom   dfrange   modindx  gender  \n",
       "35   -0.513695 -0.154699 -0.098732 -0.111527 -0.109554  0.046189     1.0  \n",
       "627   0.019616 -0.215011 -0.098732 -0.199089 -0.197179  0.034188     1.0  \n",
       "1375  0.114915 -0.059927 -0.064324 -0.019675 -0.018352 -0.076912     1.0  \n",
       "2425  0.105751  0.581402 -0.064324  0.292333  0.293880 -0.032648     0.0  \n",
       "446  -0.561536  0.052686 -0.047120  0.074678  0.075711  0.044632     1.0  \n",
       "\n",
       "[5 rows x 21 columns]"
      ]
     },
     "execution_count": 28,
     "metadata": {},
     "output_type": "execute_result"
    }
   ],
   "source": [
    "df_voice.head()"
   ]
  },
  {
   "cell_type": "markdown",
   "metadata": {},
   "source": [
    "It is also beneficial to split the data into training and testing data, so that we can verify whether logistic regression can accurately predict the gender of a voice. "
   ]
  },
  {
   "cell_type": "code",
   "execution_count": 29,
   "metadata": {
    "collapsed": false
   },
   "outputs": [],
   "source": [
    "df_test = pd.DataFrame()\n",
    "df_train = pd.DataFrame()\n",
    "df_train = df_voice[:2100]\n",
    "df_test = df_voice[2100:]"
   ]
  },
  {
   "cell_type": "code",
   "execution_count": 30,
   "metadata": {
    "collapsed": false
   },
   "outputs": [
    {
     "data": {
      "text/plain": [
       "(2100, 21)"
      ]
     },
     "execution_count": 30,
     "metadata": {},
     "output_type": "execute_result"
    }
   ],
   "source": [
    "df_train.shape"
   ]
  },
  {
   "cell_type": "code",
   "execution_count": 31,
   "metadata": {
    "collapsed": false
   },
   "outputs": [],
   "source": [
    "# Now we split the testing data to a column vector of gender and\n",
    "y_train = df_train[\"gender\"].as_matrix()\n",
    "X_train = df_train.drop(\"gender\",1).as_matrix()\n",
    "y_test = df_test[\"gender\"].as_matrix()\n",
    "X_test = df_test.drop(\"gender\",1).as_matrix()"
   ]
  },
  {
   "cell_type": "code",
   "execution_count": 32,
   "metadata": {
    "collapsed": false
   },
   "outputs": [],
   "source": [
    "y_train = y_train.transpose()\n",
    "X_train = X_train.transpose()\n",
    "X_train = np.append(np.ones((1,2100)), X_train, axis = 0)\n",
    "y_test = y_test.transpose()\n",
    "X_test = X_test.transpose()\n",
    "X_test= np.append(np.ones((1,1068)), X_test, axis = 0)"
   ]
  },
  {
   "cell_type": "code",
   "execution_count": 33,
   "metadata": {
    "collapsed": true
   },
   "outputs": [],
   "source": [
    "def sigmoid(x):\n",
    "    result = 1.0/(1.0+np.exp(-x))\n",
    "    return result"
   ]
  },
  {
   "cell_type": "code",
   "execution_count": 34,
   "metadata": {
    "collapsed": false
   },
   "outputs": [],
   "source": [
    "def log_likelihood(x,y,w):\n",
    "    item = np.dot(np.transpose(w),x)\n",
    "    result = y*log(sigmoid(item))+(1-y)*log(1.0-(sigmoid(item)))\n",
    "    return result"
   ]
  },
  {
   "cell_type": "code",
   "execution_count": 64,
   "metadata": {
    "collapsed": false
   },
   "outputs": [],
   "source": [
    "weight_plotter = []\n",
    "def stochGradDescent(outputVector,inputMatrix,learningSpeed):\n",
    "    #outputVector should be a binary column vector of classifications\n",
    "    # every column is a single trial, every row is a feature\n",
    "    a = learningSpeed\n",
    "    y = outputVector\n",
    "    X = inputMatrix\n",
    "    numberOfTrials = y.shape[0]\n",
    "    numberOfEstimators = X.shape[0]\n",
    "    prev_weight = np.ones(numberOfEstimators) #estimator vector (_t_heta)\n",
    "    weight = np.zeros(numberOfEstimators)\n",
    "    error = 10000.0\n",
    "    prev_training_cost = 1000.0\n",
    "    training_cost = 0 # This is what we're trying to maximize, the log likelihood\n",
    "    # add an additional loop to observe the training_cost\n",
    "    while ((prev_training_cost < training_cost) or (abs(prev_training_cost - training_cost) > 1e-10)):\n",
    "        training_cost = 0.0\n",
    "        while (np.linalg.norm(prev_weight-weight,ord=2) > 1e-6):\n",
    "            prev_weight = weight\n",
    "            # Randomly choose an integer\n",
    "            i = randint(1,2099)\n",
    "            grad = (y[i] - sigmoid(np.dot(np.transpose(prev_weight),X[:,i])))\n",
    "            weight = prev_weight + a * grad * X[:,i]\n",
    "            training_cost += log_likelihood(X[:,i],y[i],weight) \n",
    "            weight_plotter.append(np.linalg.norm(weight,ord=2))\n",
    "        prev_training_cost = training_cost\n",
    "    return weight"
   ]
  },
  {
   "cell_type": "code",
   "execution_count": 65,
   "metadata": {
    "collapsed": false,
    "scrolled": true
   },
   "outputs": [
    {
     "data": {
      "text/plain": [
       "array([ -3.36397254e-01,   4.54430213e-01,   9.71622213e-01,\n",
       "        -4.31239524e-01,  -2.48662876e+00,   2.66592841e+00,\n",
       "         5.17129792e+00,  -1.39260180e+00,  -8.01885800e-01,\n",
       "         2.68968525e+00,  -2.45014710e+00,   1.26528210e+00,\n",
       "         4.54430213e-01,  -1.49776343e+01,   1.00181512e+00,\n",
       "        -8.48963305e-01,   1.50805198e-02,  -4.40295733e-01,\n",
       "        -1.14774326e-02,  -2.33249895e-03,  -8.92495772e-01])"
      ]
     },
     "execution_count": 65,
     "metadata": {},
     "output_type": "execute_result"
    }
   ],
   "source": [
    "theta = stochGradDescent(y_train,X_train,1.0/200.0)\n",
    "theta"
   ]
  },
  {
   "cell_type": "code",
   "execution_count": 39,
   "metadata": {
    "collapsed": false
   },
   "outputs": [],
   "source": [
    "def predict(inputVector,estimatorVector):\n",
    "    t = estimatorVector\n",
    "    x = inputVector\n",
    "    confidence = sigmoid(np.dot(np.transpose(t) , x))\n",
    "    if confidence > 0.5:\n",
    "        return 1\n",
    "    else:\n",
    "        return 0"
   ]
  },
  {
   "cell_type": "code",
   "execution_count": 66,
   "metadata": {
    "collapsed": false,
    "scrolled": true
   },
   "outputs": [
    {
     "name": "stdout",
     "output_type": "stream",
     "text": [
      "1030 38 1068\n"
     ]
    }
   ],
   "source": [
    "correct = 0\n",
    "wrong = 0\n",
    "total = 0\n",
    "for j in range(1068):\n",
    "    # print(predict(X_test[:,j],theta)), y_test[j]\n",
    "    if (y_test[j] == predict(X_test[:,j],theta)):\n",
    "        correct += 1\n",
    "    else:\n",
    "        wrong += 1\n",
    "    total += 1\n",
    "print correct, wrong, total"
   ]
  },
  {
   "cell_type": "code",
   "execution_count": 67,
   "metadata": {
    "collapsed": false
   },
   "outputs": [
    {
     "data": {
      "image/png": "[encoded data removed]",
      "text/plain": [
       "<matplotlib.figure.Figure at 0x7fb7bac69990>"
      ]
     },
     "metadata": {},
     "output_type": "display_data"
    }
   ],
   "source": [
    "x = []\n",
    "for i in range(len(weight_plotter)):\n",
    "    x.append(i)\n",
    "plt.plot(x,weight_plotter)\n",
    "plt.title(\"Convergence of weights\")\n",
    "plt.xlabel(\"Iterations\")\n",
    "plt.ylabel(\"L2 norm of weights\")\n",
    "plt.show()"
   ]
  },
  {
   "cell_type": "code",
   "execution_count": null,
   "metadata": {
    "collapsed": false
   },
   "outputs": [],
   "source": []
  },
  {
   "cell_type": "code",
   "execution_count": null,
   "metadata": {
    "collapsed": true
   },
   "outputs": [],
   "source": []
  }
 ],
 "metadata": {
  "anaconda-cloud": {},
  "kernelspec": {
   "display_name": "Python 2",
   "language": "python",
   "name": "python2"
  },
  "language_info": {
   "codemirror_mode": {
    "name": "ipython",
    "version": 2
   },
   "file_extension": ".py",
   "mimetype": "text/x-python",
   "name": "python",
   "nbconvert_exporter": "python",
   "pygments_lexer": "ipython2",
   "version": "2.7.12"
  }
 },
 "nbformat": 4,
 "nbformat_minor": 1
}
