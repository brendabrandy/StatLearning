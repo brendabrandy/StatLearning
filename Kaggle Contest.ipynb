{
 "cells": [
  {
   "cell_type": "markdown",
   "metadata": {
    "collapsed": true
   },
   "source": [
    "# Abstract"
   ]
  },
  {
   "cell_type": "markdown",
   "metadata": {},
   "source": [
    "This notebook details the steps we took to find the correct model for the kaggle data contest. The notebook is split into the following sessions:\n",
    "\n",
    "1. Familiarizing myself with the data : Where we do simple data visualizations and summaries to understand the issues with the data (or lack thereof)\n",
    "\n",
    "2. Oversampling the data : Where we use different methods to resolve the issue that class 0 has much more data points than class 1. Things that we have tried include:\n",
    "    1. imblearn python library with functions supporting oversampling and undersampling techniques\n",
    "\n",
    "3. Reducing Dimensionality : Reduce the number of dimensions in the data. Things we have tried include\n",
    "    1. PCA library\n",
    "    \n",
    "4. Classification Algorithm : Where we test out different classification algorithm. Things we have tried include\n",
    "    1. SVM with GridSearch Algorithm\n",
    "    \n",
    "TODO : \n",
    "- Implement cross-validation\n",
    "- Try different kernels in SVM and find the best one"
   ]
  },
  {
   "cell_type": "markdown",
   "metadata": {},
   "source": [
    "# Familiarize myself with the data"
   ]
  },
  {
   "cell_type": "code",
   "execution_count": 1,
   "metadata": {
    "collapsed": false
   },
   "outputs": [],
   "source": [
    "%matplotlib inline\n",
    "import pandas as pd\n",
    "import numpy as np\n",
    "import scipy\n",
    "import matplotlib.pyplot as plt"
   ]
  },
  {
   "cell_type": "code",
   "execution_count": 2,
   "metadata": {
    "collapsed": false
   },
   "outputs": [],
   "source": [
    "result = pd.read_csv(\"submit.csv\",header=None)"
   ]
  },
  {
   "cell_type": "code",
   "execution_count": 3,
   "metadata": {
    "collapsed": false
   },
   "outputs": [
    {
     "data": {
      "text/html": [
       "<div>\n",
       "<table border=\"1\" class=\"dataframe\">\n",
       "  <thead>\n",
       "    <tr style=\"text-align: right;\">\n",
       "      <th></th>\n",
       "      <th>0</th>\n",
       "      <th>1</th>\n",
       "    </tr>\n",
       "  </thead>\n",
       "  <tbody>\n",
       "    <tr>\n",
       "      <th>0</th>\n",
       "      <td>Ids</td>\n",
       "      <td>Predictions</td>\n",
       "    </tr>\n",
       "    <tr>\n",
       "      <th>1</th>\n",
       "      <td>1</td>\n",
       "      <td>-0.3757</td>\n",
       "    </tr>\n",
       "    <tr>\n",
       "      <th>2</th>\n",
       "      <td>2</td>\n",
       "      <td>-0.47766</td>\n",
       "    </tr>\n",
       "    <tr>\n",
       "      <th>3</th>\n",
       "      <td>3</td>\n",
       "      <td>-0.57434</td>\n",
       "    </tr>\n",
       "    <tr>\n",
       "      <th>4</th>\n",
       "      <td>4</td>\n",
       "      <td>-0.91493</td>\n",
       "    </tr>\n",
       "    <tr>\n",
       "      <th>5</th>\n",
       "      <td>5</td>\n",
       "      <td>-1.0782</td>\n",
       "    </tr>\n",
       "    <tr>\n",
       "      <th>6</th>\n",
       "      <td>6</td>\n",
       "      <td>-0.15605</td>\n",
       "    </tr>\n",
       "    <tr>\n",
       "      <th>7</th>\n",
       "      <td>7</td>\n",
       "      <td>0.17421</td>\n",
       "    </tr>\n",
       "    <tr>\n",
       "      <th>8</th>\n",
       "      <td>8</td>\n",
       "      <td>-0.49312</td>\n",
       "    </tr>\n",
       "    <tr>\n",
       "      <th>9</th>\n",
       "      <td>9</td>\n",
       "      <td>-0.63697</td>\n",
       "    </tr>\n",
       "  </tbody>\n",
       "</table>\n",
       "</div>"
      ],
      "text/plain": [
       "     0            1\n",
       "0  Ids  Predictions\n",
       "1    1      -0.3757\n",
       "2    2     -0.47766\n",
       "3    3     -0.57434\n",
       "4    4     -0.91493\n",
       "5    5      -1.0782\n",
       "6    6     -0.15605\n",
       "7    7      0.17421\n",
       "8    8     -0.49312\n",
       "9    9     -0.63697"
      ]
     },
     "execution_count": 3,
     "metadata": {},
     "output_type": "execute_result"
    }
   ],
   "source": [
    "result.head(10)"
   ]
  },
  {
   "cell_type": "code",
   "execution_count": 4,
   "metadata": {
    "collapsed": false
   },
   "outputs": [],
   "source": [
    "data = pd.read_csv(\"test.csv\",header=None) # dataframe for data\n",
    "label = pd.read_csv(\"trainlabels.csv\",header=None) # dataframe for labels"
   ]
  },
  {
   "cell_type": "code",
   "execution_count": 5,
   "metadata": {
    "collapsed": false
   },
   "outputs": [
    {
     "data": {
      "text/html": [
       "<div>\n",
       "<table border=\"1\" class=\"dataframe\">\n",
       "  <thead>\n",
       "    <tr style=\"text-align: right;\">\n",
       "      <th></th>\n",
       "      <th>0</th>\n",
       "      <th>1</th>\n",
       "      <th>2</th>\n",
       "      <th>3</th>\n",
       "      <th>4</th>\n",
       "      <th>5</th>\n",
       "      <th>6</th>\n",
       "      <th>7</th>\n",
       "      <th>8</th>\n",
       "      <th>9</th>\n",
       "      <th>...</th>\n",
       "      <th>107</th>\n",
       "      <th>108</th>\n",
       "      <th>109</th>\n",
       "      <th>110</th>\n",
       "      <th>111</th>\n",
       "      <th>112</th>\n",
       "      <th>113</th>\n",
       "      <th>114</th>\n",
       "      <th>115</th>\n",
       "      <th>116</th>\n",
       "    </tr>\n",
       "  </thead>\n",
       "  <tbody>\n",
       "    <tr>\n",
       "      <th>count</th>\n",
       "      <td>51147.000000</td>\n",
       "      <td>51147.000000</td>\n",
       "      <td>51147.000000</td>\n",
       "      <td>51147.000000</td>\n",
       "      <td>51147.000000</td>\n",
       "      <td>51147.000000</td>\n",
       "      <td>51147.000000</td>\n",
       "      <td>51147.000000</td>\n",
       "      <td>51147.000000</td>\n",
       "      <td>51147.000000</td>\n",
       "      <td>...</td>\n",
       "      <td>51147.000000</td>\n",
       "      <td>51147.000000</td>\n",
       "      <td>51147.000000</td>\n",
       "      <td>51147.000000</td>\n",
       "      <td>51147.000000</td>\n",
       "      <td>51147.000000</td>\n",
       "      <td>51147.000000</td>\n",
       "      <td>51147.000000</td>\n",
       "      <td>51147.000000</td>\n",
       "      <td>51147.000000</td>\n",
       "    </tr>\n",
       "    <tr>\n",
       "      <th>mean</th>\n",
       "      <td>0.004512</td>\n",
       "      <td>-0.000636</td>\n",
       "      <td>0.051673</td>\n",
       "      <td>0.042571</td>\n",
       "      <td>0.056183</td>\n",
       "      <td>0.057739</td>\n",
       "      <td>0.008261</td>\n",
       "      <td>0.004428</td>\n",
       "      <td>-0.010737</td>\n",
       "      <td>-0.009185</td>\n",
       "      <td>...</td>\n",
       "      <td>0.002301</td>\n",
       "      <td>-0.008224</td>\n",
       "      <td>-0.001064</td>\n",
       "      <td>-0.002064</td>\n",
       "      <td>0.005197</td>\n",
       "      <td>0.007201</td>\n",
       "      <td>0.011304</td>\n",
       "      <td>0.004175</td>\n",
       "      <td>0.011035</td>\n",
       "      <td>-0.004051</td>\n",
       "    </tr>\n",
       "    <tr>\n",
       "      <th>std</th>\n",
       "      <td>0.169657</td>\n",
       "      <td>1.214338</td>\n",
       "      <td>1.140387</td>\n",
       "      <td>1.163355</td>\n",
       "      <td>0.959239</td>\n",
       "      <td>0.981403</td>\n",
       "      <td>1.000048</td>\n",
       "      <td>0.998387</td>\n",
       "      <td>0.970957</td>\n",
       "      <td>0.974807</td>\n",
       "      <td>...</td>\n",
       "      <td>0.995252</td>\n",
       "      <td>0.982820</td>\n",
       "      <td>1.005206</td>\n",
       "      <td>1.007926</td>\n",
       "      <td>0.988943</td>\n",
       "      <td>1.003673</td>\n",
       "      <td>0.988229</td>\n",
       "      <td>1.000503</td>\n",
       "      <td>0.989728</td>\n",
       "      <td>1.000156</td>\n",
       "    </tr>\n",
       "    <tr>\n",
       "      <th>min</th>\n",
       "      <td>-14.729000</td>\n",
       "      <td>-147.050000</td>\n",
       "      <td>-71.355000</td>\n",
       "      <td>-81.417000</td>\n",
       "      <td>-3.083900</td>\n",
       "      <td>-9.116000</td>\n",
       "      <td>-2.074000</td>\n",
       "      <td>-1.907100</td>\n",
       "      <td>-1.572300</td>\n",
       "      <td>-1.504400</td>\n",
       "      <td>...</td>\n",
       "      <td>-1.936300</td>\n",
       "      <td>-7.444100</td>\n",
       "      <td>-7.460500</td>\n",
       "      <td>-32.916000</td>\n",
       "      <td>-7.777900</td>\n",
       "      <td>-1.217500</td>\n",
       "      <td>-4.532000</td>\n",
       "      <td>-5.448400</td>\n",
       "      <td>-6.183800</td>\n",
       "      <td>-23.222000</td>\n",
       "    </tr>\n",
       "    <tr>\n",
       "      <th>25%</th>\n",
       "      <td>-0.060565</td>\n",
       "      <td>-0.033402</td>\n",
       "      <td>-0.149330</td>\n",
       "      <td>-0.124350</td>\n",
       "      <td>-0.459645</td>\n",
       "      <td>-0.446405</td>\n",
       "      <td>-0.516745</td>\n",
       "      <td>-0.588935</td>\n",
       "      <td>-0.713190</td>\n",
       "      <td>-0.726980</td>\n",
       "      <td>...</td>\n",
       "      <td>-0.636215</td>\n",
       "      <td>-0.460810</td>\n",
       "      <td>-0.491925</td>\n",
       "      <td>-0.348060</td>\n",
       "      <td>-0.508015</td>\n",
       "      <td>-0.844615</td>\n",
       "      <td>-0.233770</td>\n",
       "      <td>-0.593415</td>\n",
       "      <td>-0.089995</td>\n",
       "      <td>-0.258950</td>\n",
       "    </tr>\n",
       "    <tr>\n",
       "      <th>50%</th>\n",
       "      <td>0.024372</td>\n",
       "      <td>0.106880</td>\n",
       "      <td>0.148950</td>\n",
       "      <td>0.132410</td>\n",
       "      <td>-0.064171</td>\n",
       "      <td>-0.062274</td>\n",
       "      <td>0.019582</td>\n",
       "      <td>-0.075740</td>\n",
       "      <td>-0.231750</td>\n",
       "      <td>-0.239930</td>\n",
       "      <td>...</td>\n",
       "      <td>-0.064278</td>\n",
       "      <td>-0.106220</td>\n",
       "      <td>0.161080</td>\n",
       "      <td>0.196700</td>\n",
       "      <td>-0.262700</td>\n",
       "      <td>-0.120030</td>\n",
       "      <td>0.327120</td>\n",
       "      <td>0.274870</td>\n",
       "      <td>0.329680</td>\n",
       "      <td>-0.143200</td>\n",
       "    </tr>\n",
       "    <tr>\n",
       "      <th>75%</th>\n",
       "      <td>0.091942</td>\n",
       "      <td>0.174370</td>\n",
       "      <td>0.379030</td>\n",
       "      <td>0.329570</td>\n",
       "      <td>0.442510</td>\n",
       "      <td>0.428840</td>\n",
       "      <td>0.580480</td>\n",
       "      <td>0.510490</td>\n",
       "      <td>0.476545</td>\n",
       "      <td>0.485730</td>\n",
       "      <td>...</td>\n",
       "      <td>0.553515</td>\n",
       "      <td>0.313420</td>\n",
       "      <td>0.563285</td>\n",
       "      <td>0.398780</td>\n",
       "      <td>0.131030</td>\n",
       "      <td>0.656475</td>\n",
       "      <td>0.648445</td>\n",
       "      <td>0.807115</td>\n",
       "      <td>0.587350</td>\n",
       "      <td>0.005410</td>\n",
       "    </tr>\n",
       "    <tr>\n",
       "      <th>max</th>\n",
       "      <td>1.342600</td>\n",
       "      <td>5.426700</td>\n",
       "      <td>2.032300</td>\n",
       "      <td>1.747900</td>\n",
       "      <td>44.441000</td>\n",
       "      <td>32.837000</td>\n",
       "      <td>15.233000</td>\n",
       "      <td>12.563000</td>\n",
       "      <td>15.629000</td>\n",
       "      <td>11.644000</td>\n",
       "      <td>...</td>\n",
       "      <td>13.878000</td>\n",
       "      <td>11.096000</td>\n",
       "      <td>6.313700</td>\n",
       "      <td>17.026000</td>\n",
       "      <td>11.566000</td>\n",
       "      <td>16.913000</td>\n",
       "      <td>1.410600</td>\n",
       "      <td>1.438700</td>\n",
       "      <td>1.358900</td>\n",
       "      <td>40.554000</td>\n",
       "    </tr>\n",
       "  </tbody>\n",
       "</table>\n",
       "<p>8 rows × 117 columns</p>\n",
       "</div>"
      ],
      "text/plain": [
       "                0             1             2             3             4    \\\n",
       "count  51147.000000  51147.000000  51147.000000  51147.000000  51147.000000   \n",
       "mean       0.004512     -0.000636      0.051673      0.042571      0.056183   \n",
       "std        0.169657      1.214338      1.140387      1.163355      0.959239   \n",
       "min      -14.729000   -147.050000    -71.355000    -81.417000     -3.083900   \n",
       "25%       -0.060565     -0.033402     -0.149330     -0.124350     -0.459645   \n",
       "50%        0.024372      0.106880      0.148950      0.132410     -0.064171   \n",
       "75%        0.091942      0.174370      0.379030      0.329570      0.442510   \n",
       "max        1.342600      5.426700      2.032300      1.747900     44.441000   \n",
       "\n",
       "                5             6             7             8             9    \\\n",
       "count  51147.000000  51147.000000  51147.000000  51147.000000  51147.000000   \n",
       "mean       0.057739      0.008261      0.004428     -0.010737     -0.009185   \n",
       "std        0.981403      1.000048      0.998387      0.970957      0.974807   \n",
       "min       -9.116000     -2.074000     -1.907100     -1.572300     -1.504400   \n",
       "25%       -0.446405     -0.516745     -0.588935     -0.713190     -0.726980   \n",
       "50%       -0.062274      0.019582     -0.075740     -0.231750     -0.239930   \n",
       "75%        0.428840      0.580480      0.510490      0.476545      0.485730   \n",
       "max       32.837000     15.233000     12.563000     15.629000     11.644000   \n",
       "\n",
       "           ...                107           108           109           110  \\\n",
       "count      ...       51147.000000  51147.000000  51147.000000  51147.000000   \n",
       "mean       ...           0.002301     -0.008224     -0.001064     -0.002064   \n",
       "std        ...           0.995252      0.982820      1.005206      1.007926   \n",
       "min        ...          -1.936300     -7.444100     -7.460500    -32.916000   \n",
       "25%        ...          -0.636215     -0.460810     -0.491925     -0.348060   \n",
       "50%        ...          -0.064278     -0.106220      0.161080      0.196700   \n",
       "75%        ...           0.553515      0.313420      0.563285      0.398780   \n",
       "max        ...          13.878000     11.096000      6.313700     17.026000   \n",
       "\n",
       "                111           112           113           114           115  \\\n",
       "count  51147.000000  51147.000000  51147.000000  51147.000000  51147.000000   \n",
       "mean       0.005197      0.007201      0.011304      0.004175      0.011035   \n",
       "std        0.988943      1.003673      0.988229      1.000503      0.989728   \n",
       "min       -7.777900     -1.217500     -4.532000     -5.448400     -6.183800   \n",
       "25%       -0.508015     -0.844615     -0.233770     -0.593415     -0.089995   \n",
       "50%       -0.262700     -0.120030      0.327120      0.274870      0.329680   \n",
       "75%        0.131030      0.656475      0.648445      0.807115      0.587350   \n",
       "max       11.566000     16.913000      1.410600      1.438700      1.358900   \n",
       "\n",
       "                116  \n",
       "count  51147.000000  \n",
       "mean      -0.004051  \n",
       "std        1.000156  \n",
       "min      -23.222000  \n",
       "25%       -0.258950  \n",
       "50%       -0.143200  \n",
       "75%        0.005410  \n",
       "max       40.554000  \n",
       "\n",
       "[8 rows x 117 columns]"
      ]
     },
     "execution_count": 5,
     "metadata": {},
     "output_type": "execute_result"
    }
   ],
   "source": [
    "data.describe()"
   ]
  },
  {
   "cell_type": "code",
   "execution_count": 6,
   "metadata": {
    "collapsed": false
   },
   "outputs": [
    {
     "data": {
      "text/plain": [
       "<matplotlib.axes._subplots.AxesSubplot at 0x7f212a910210>"
      ]
     },
     "execution_count": 6,
     "metadata": {},
     "output_type": "execute_result"
    },
    {
     "data": {
      "image/png": "[encoded data removed]",
      "text/plain": [
       "<matplotlib.figure.Figure at 0x7f21543feb50>"
      ]
     },
     "metadata": {},
     "output_type": "display_data"
    }
   ],
   "source": [
    "label_general = label[0].value_counts()\n",
    "label_general.plot(kind='bar',title='Distribution of Labels')"
   ]
  },
  {
   "cell_type": "code",
   "execution_count": 7,
   "metadata": {
    "collapsed": false
   },
   "outputs": [
    {
     "data": {
      "text/plain": [
       "0    50747\n",
       "1      400\n",
       "Name: 0, dtype: int64"
      ]
     },
     "execution_count": 7,
     "metadata": {},
     "output_type": "execute_result"
    }
   ],
   "source": [
    "label_general"
   ]
  },
  {
   "cell_type": "markdown",
   "metadata": {},
   "source": [
    "Alright it looks like there number of 0s far exceed that of 1, we gotta do something about this..."
   ]
  },
  {
   "cell_type": "code",
   "execution_count": 8,
   "metadata": {
    "collapsed": false
   },
   "outputs": [
    {
     "name": "stderr",
     "output_type": "stream",
     "text": [
      "/home/sogun3/.local/lib/python2.7/site-packages/ipykernel/__main__.py:1: FutureWarning: \n",
      "The default value for 'return_type' will change to 'axes' in a future release.\n",
      " To use the future behavior now, set return_type='axes'.\n",
      " To keep the previous behavior and silence this warning, set return_type='dict'.\n",
      "  if __name__ == '__main__':\n"
     ]
    },
    {
     "data": {
      "image/png": "[encoded data removed]",
      "text/plain": [
       "<matplotlib.figure.Figure at 0x7f212a8b5290>"
      ]
     },
     "metadata": {},
     "output_type": "display_data"
    }
   ],
   "source": [
    "data.boxplot();"
   ]
  },
  {
   "cell_type": "code",
   "execution_count": 16,
   "metadata": {
    "collapsed": true
   },
   "outputs": [],
   "source": [
    "from sklearn.preprocessing import MinMaxScaler\n",
    "\n",
    "mmscaler = MinMaxScaler()\n",
    "mmscaler_scaled = mmscaler.fit_transform(data)"
   ]
  },
  {
   "cell_type": "markdown",
   "metadata": {},
   "source": [
    "There's two things we need to do before passing the data through statistical learning algorithms\n",
    "1. Increase the number of data points for 1\n",
    "2. Reduce the dimensionality of features, choose only the ones that matter"
   ]
  },
  {
   "cell_type": "markdown",
   "metadata": {},
   "source": [
    "# Oversampling minority data"
   ]
  },
  {
   "cell_type": "markdown",
   "metadata": {},
   "source": [
    "One common example of increasing the number of minority data is SMOTE, which stands for Synthetic Minority Oversampling TEchnique. This technique \n",
    "\n",
    "Note : k nearest neighbour algorithm, random forest\n",
    "Note : should test whether to implement the technique before or after reducing the dimensionality, since research (https://bmcbioinformatics.biomedcentral.com/articles/10.1186/1471-2105-14-106) showed that SMOTE does not work well in low dimension data set\n",
    "\n",
    "F1 scoring? ROC based learning\n",
    "\n",
    "Note : I got how to do PCA from Python Data Science Essentials book by Boschetti"
   ]
  },
  {
   "cell_type": "code",
   "execution_count": 9,
   "metadata": {
    "collapsed": false
   },
   "outputs": [
    {
     "name": "stderr",
     "output_type": "stream",
     "text": [
      "/home/sogun3/anaconda2/lib/python2.7/site-packages/sklearn/utils/validation.py:526: DataConversionWarning: A column-vector y was passed when a 1d array was expected. Please change the shape of y to (n_samples, ), for example using ravel().\n",
      "  y = column_or_1d(y, warn=True)\n"
     ]
    }
   ],
   "source": [
    "from imblearn.over_sampling import SMOTE\n",
    "\n",
    "sm = SMOTE(kind='svm')\n",
    "data_resampled, label_resampled = sm.fit_sample(data,label.as_matrix())"
   ]
  },
  {
   "cell_type": "code",
   "execution_count": 10,
   "metadata": {
    "collapsed": false
   },
   "outputs": [
    {
     "data": {
      "text/plain": [
       "Counter({0: 50747, 1: 16022})"
      ]
     },
     "execution_count": 10,
     "metadata": {},
     "output_type": "execute_result"
    }
   ],
   "source": [
    "import collections\n",
    "collections.Counter(label_resampled)"
   ]
  },
  {
   "cell_type": "markdown",
   "metadata": {},
   "source": [
    "Aha we successfully increase the number of 1s to 1/5 the number of 0s, which is a great improvement! Now we finished preparing the data, we can now do SVM! Woo!"
   ]
  },
  {
   "cell_type": "markdown",
   "metadata": {},
   "source": [
    "# Reduce dimensionality"
   ]
  },
  {
   "cell_type": "markdown",
   "metadata": {},
   "source": [
    "A common method to reduce dimensionality is with PCA. The user can determine the number of components he or she wants to reduce to, and PCA would do it for you. One important parameter to look for is explained variance ratio, which is a variable that indicates how much variance is explained by each of the selected ratio. The maximum sum of explained variance ratio can be up to 1, where all variance is explained, and down to 0, where no variance is explained. "
   ]
  },
  {
   "cell_type": "code",
   "execution_count": 11,
   "metadata": {
    "collapsed": false
   },
   "outputs": [
    {
     "data": {
      "text/plain": [
       "(51147, 2)"
      ]
     },
     "execution_count": 11,
     "metadata": {},
     "output_type": "execute_result"
    }
   ],
   "source": [
    "from sklearn.decomposition import PCA   \n",
    "pca = PCA(n_components=2)\n",
    "X_pca_2c=pca.fit_transform(data)\n",
    "X_pca_2c.shape"
   ]
  },
  {
   "cell_type": "code",
   "execution_count": 12,
   "metadata": {
    "collapsed": false
   },
   "outputs": [
    {
     "data": {
      "image/png": "[encoded data removed]",
      "text/plain": [
       "<matplotlib.figure.Figure at 0x7f2126da1ed0>"
      ]
     },
     "metadata": {},
     "output_type": "display_data"
    },
    {
     "data": {
      "text/plain": [
       "0.38320273625976942"
      ]
     },
     "execution_count": 12,
     "metadata": {},
     "output_type": "execute_result"
    }
   ],
   "source": [
    "plt.scatter(X_pca_2c[:,0],X_pca_2c[:,1],c=label,alpha=0.8,edgecolors='none')\n",
    "plt.show()\n",
    "pca.explained_variance_ratio_.sum()"
   ]
  },
  {
   "cell_type": "markdown",
   "metadata": {},
   "source": [
    "Great! We successfully implemented PCA to reduce the dimensionality to 2D. however, the graph is very problematic. First of all, you can barely see the class 1 features, which are the red dots. It implies that the labels are still not well separated. It could be because of the imbalanced data, but the red dots are still muddled. Moreover, the variance ratio is only 38%. "
   ]
  },
  {
   "cell_type": "code",
   "execution_count": 13,
   "metadata": {
    "collapsed": false
   },
   "outputs": [],
   "source": [
    "from sklearn.decomposition import PCA             # 1. Choose model\n",
    "def pca_optimum(dataset, labelset,iterations):\n",
    "    y = []  # save variance ratio for plotting\n",
    "    x = []  # save num of iterations for plotting\n",
    "    for i in range(1,iterations+1):\n",
    "        pca = PCA(n_components=i)                 # 2. Instantiate model\n",
    "        X_pca_2c=pca.fit_transform(dataset)       # 3. fit model to data\n",
    "        y_i = pca.explained_variance_ratio_.sum() # 4. Obtain variance\n",
    "        print i, y_i                              # 5. visually obtain data points   \n",
    "        x.append(i)                               # 6. add iteration to x array\n",
    "        y.append(y_i)                             # 7. add variance ratio to y array\n",
    "    plt.plot(x,y)                                 # 8. Plot graph\n",
    "    plt.title(\"Number of features to contain in PCA analysis\")\n",
    "    plt.xlabel(\"Number of labels\")\n",
    "    plt.ylabel(\"Amount of energy (%)\")\n",
    "    plt.figure()"
   ]
  },
  {
   "cell_type": "code",
   "execution_count": 14,
   "metadata": {
    "collapsed": false
   },
   "outputs": [
    {
     "name": "stdout",
     "output_type": "stream",
     "text": [
      "1 0.270629225211\n",
      "2 0.391418569648\n",
      "3 0.468730359486\n",
      "4 0.536184277338\n",
      "5 0.58212191627\n",
      "6 0.623263821627\n",
      "7 0.654581153947\n",
      "8 0.682086519623\n",
      "9 0.7028009924\n",
      "10 0.72157644482\n",
      "11 0.739393717902\n",
      "12 0.756300619186\n",
      "13 0.772643886929\n",
      "14 0.7879213234\n",
      "15 0.801688043643\n",
      "16 0.814985809122\n",
      "17 0.826634893017\n",
      "18 0.837877486131\n",
      "19 0.848520641372\n",
      "20 0.858703492468\n",
      "21 0.868627749745\n",
      "22 0.877408921963\n",
      "23 0.885697408819\n",
      "24 0.893587188777\n",
      "25 0.900986069913\n",
      "26 0.907474813913\n",
      "27 0.913358651405\n",
      "28 0.919102542273\n",
      "29 0.924417569044\n",
      "30 0.929388097796\n",
      "31 0.933988869078\n",
      "32 0.938157192714\n",
      "33 0.942059548885\n",
      "34 0.945926821568\n",
      "35 0.949214168551\n",
      "36 0.952455943401\n",
      "37 0.955570464485\n",
      "38 0.958631431916\n",
      "39 0.961502171532\n",
      "40 0.96426700657\n",
      "41 0.966769334294\n",
      "42 0.969123520293\n",
      "43 0.971329860743\n",
      "44 0.973349131738\n",
      "45 0.975210246793\n",
      "46 0.977016527871\n",
      "47 0.978686803479\n",
      "48 0.980349739212\n",
      "49 0.981962552195\n",
      "50 0.983428679051\n"
     ]
    },
    {
     "data": {
      "image/png": "[encoded data removed]",
      "text/plain": [
       "<matplotlib.figure.Figure at 0x7f2123d9a350>"
      ]
     },
     "metadata": {},
     "output_type": "display_data"
    },
    {
     "data": {
      "text/plain": [
       "<matplotlib.figure.Figure at 0x7f212700bc50>"
      ]
     },
     "metadata": {},
     "output_type": "display_data"
    }
   ],
   "source": [
    "pca_optimum(data_resampled, label_resampled,50)"
   ]
  },
  {
   "cell_type": "markdown",
   "metadata": {},
   "source": [
    "From the data collected, the cutoff number of features should be at around 37 features, which is much more manageable than 117 features. However, I would want to validate this method with other feature reduction methods. "
   ]
  },
  {
   "cell_type": "code",
   "execution_count": 15,
   "metadata": {
    "collapsed": false
   },
   "outputs": [
    {
     "data": {
      "text/plain": [
       "(66769, 36)"
      ]
     },
     "execution_count": 15,
     "metadata": {},
     "output_type": "execute_result"
    }
   ],
   "source": [
    "pca_37 = PCA(n_components=36)\n",
    "X_pca_37=pca_37.fit_transform(data_resampled)\n",
    "pca_37.get_params()\n",
    "X_pca_37.shape"
   ]
  },
  {
   "cell_type": "markdown",
   "metadata": {},
   "source": [
    "# Final Algorithm"
   ]
  },
  {
   "cell_type": "markdown",
   "metadata": {},
   "source": [
    "## Organize and oversample data"
   ]
  },
  {
   "cell_type": "code",
   "execution_count": 2,
   "metadata": {
    "collapsed": false
   },
   "outputs": [
    {
     "name": "stderr",
     "output_type": "stream",
     "text": [
      "/home/sogun3/anaconda2/lib/python2.7/site-packages/sklearn/utils/validation.py:526: DataConversionWarning: A column-vector y was passed when a 1d array was expected. Please change the shape of y to (n_samples, ), for example using ravel().\n",
      "  y = column_or_1d(y, warn=True)\n"
     ]
    }
   ],
   "source": [
    "import pandas as pd\n",
    "from sklearn.decomposition import PCA\n",
    "from sklearn.svm import SVC\n",
    "from sklearn import cross_validation\n",
    "from imblearn.over_sampling import SMOTE\n",
    "\n",
    "data = pd.read_csv(\"test.csv\",header=None) # dataframe for data\n",
    "label = pd.read_csv(\"trainlabels.csv\",header=None) # dataframe for labels\n",
    "\n",
    "\n",
    "sm = SMOTE(kind='svm')\n",
    "data_resampled, label_resampled = sm.fit_sample(data,label.as_matrix())\n",
    "X_train, X_test, y_train, y_test = cross_validation.train_test_split(data_resampled, label_resampled, test_size=0.4, random_state=0)\n"
   ]
  },
  {
   "cell_type": "markdown",
   "metadata": {},
   "source": [
    "# Perform PCA"
   ]
  },
  {
   "cell_type": "code",
   "execution_count": 12,
   "metadata": {
    "collapsed": true
   },
   "outputs": [],
   "source": [
    "pca_36 = PCA(n_components=36)\n",
    "pca_36.fit(X_train)\n",
    "\n",
    "X_t_train = pca_36.transform(X_train)\n",
    "X_t_test = pca_36.transform(X_test)"
   ]
  },
  {
   "cell_type": "code",
   "execution_count": 13,
   "metadata": {
    "collapsed": false
   },
   "outputs": [
    {
     "data": {
      "text/plain": [
       "(32243, 36)"
      ]
     },
     "execution_count": 13,
     "metadata": {},
     "output_type": "execute_result"
    }
   ],
   "source": [
    "X_t_test.shape"
   ]
  },
  {
   "cell_type": "code",
   "execution_count": 14,
   "metadata": {
    "collapsed": false
   },
   "outputs": [
    {
     "name": "stdout",
     "output_type": "stream",
     "text": [
      "score 0.995782030208\n",
      "pred label [0 0 1 ..., 1 0 0]\n"
     ]
    }
   ],
   "source": [
    "clf = SVC()\n",
    "clf.fit(X_t_train, y_train)\n",
    "print 'score', clf.score(X_t_test, y_test)\n",
    "print 'pred label', clf.predict(X_t_test)"
   ]
  },
  {
   "cell_type": "code",
   "execution_count": 8,
   "metadata": {
    "collapsed": false
   },
   "outputs": [
    {
     "data": {
      "text/plain": [
       "array([-1.78789603, -1.90461712,  1.01749606, ...,  1.01508986,\n",
       "       -2.79945289, -1.64379005])"
      ]
     },
     "execution_count": 8,
     "metadata": {},
     "output_type": "execute_result"
    }
   ],
   "source": [
    "clf.decision_function(X_t_test)"
   ]
  },
  {
   "cell_type": "code",
   "execution_count": 21,
   "metadata": {
    "collapsed": false
   },
   "outputs": [],
   "source": [
    "tester = pd.read_csv(\"test.csv\",header=None)\n",
    "X_t_tester = pca_36.transform(tester)\n",
    "res = clf.decision_function(X_t_tester);"
   ]
  },
  {
   "cell_type": "code",
   "execution_count": 22,
   "metadata": {
    "collapsed": false
   },
   "outputs": [
    {
     "data": {
      "text/plain": [
       "(51147, 36)"
      ]
     },
     "execution_count": 22,
     "metadata": {},
     "output_type": "execute_result"
    }
   ],
   "source": [
    "X_t_tester.shape"
   ]
  },
  {
   "cell_type": "code",
   "execution_count": 26,
   "metadata": {
    "collapsed": false
   },
   "outputs": [
    {
     "data": {
      "text/plain": [
       "-3.9521186685399692"
      ]
     },
     "execution_count": 26,
     "metadata": {},
     "output_type": "execute_result"
    }
   ],
   "source": [
    "res.min()"
   ]
  },
  {
   "cell_type": "code",
   "execution_count": 40,
   "metadata": {
    "collapsed": false
   },
   "outputs": [],
   "source": [
    "import numpy as np\n",
    "ids = np.array(np.arange(1,res.shape[0]+1))\n",
    "d = {'Id':ids, 'Prediction':res}\n",
    "df = pd.DataFrame(data=d)\n",
    "df.head(10)\n",
    "df.to_csv(path_or_buf=\"submit_anaconda.csv\",index=False)"
   ]
  },
  {
   "cell_type": "code",
   "execution_count": 41,
   "metadata": {
    "collapsed": false
   },
   "outputs": [
    {
     "data": {
      "text/html": [
       "<div>\n",
       "<table border=\"1\" class=\"dataframe\">\n",
       "  <thead>\n",
       "    <tr style=\"text-align: right;\">\n",
       "      <th></th>\n",
       "      <th>Id</th>\n",
       "      <th>Prediction</th>\n",
       "    </tr>\n",
       "  </thead>\n",
       "  <tbody>\n",
       "    <tr>\n",
       "      <th>0</th>\n",
       "      <td>1</td>\n",
       "      <td>-1.700993</td>\n",
       "    </tr>\n",
       "    <tr>\n",
       "      <th>1</th>\n",
       "      <td>2</td>\n",
       "      <td>-1.631949</td>\n",
       "    </tr>\n",
       "    <tr>\n",
       "      <th>2</th>\n",
       "      <td>3</td>\n",
       "      <td>-1.771376</td>\n",
       "    </tr>\n",
       "    <tr>\n",
       "      <th>3</th>\n",
       "      <td>4</td>\n",
       "      <td>-1.944987</td>\n",
       "    </tr>\n",
       "    <tr>\n",
       "      <th>4</th>\n",
       "      <td>5</td>\n",
       "      <td>-2.724440</td>\n",
       "    </tr>\n",
       "    <tr>\n",
       "      <th>5</th>\n",
       "      <td>6</td>\n",
       "      <td>-2.612989</td>\n",
       "    </tr>\n",
       "    <tr>\n",
       "      <th>6</th>\n",
       "      <td>7</td>\n",
       "      <td>-0.613615</td>\n",
       "    </tr>\n",
       "    <tr>\n",
       "      <th>7</th>\n",
       "      <td>8</td>\n",
       "      <td>-2.420370</td>\n",
       "    </tr>\n",
       "    <tr>\n",
       "      <th>8</th>\n",
       "      <td>9</td>\n",
       "      <td>-2.187510</td>\n",
       "    </tr>\n",
       "    <tr>\n",
       "      <th>9</th>\n",
       "      <td>10</td>\n",
       "      <td>-1.300174</td>\n",
       "    </tr>\n",
       "  </tbody>\n",
       "</table>\n",
       "</div>"
      ],
      "text/plain": [
       "   Id  Prediction\n",
       "0   1   -1.700993\n",
       "1   2   -1.631949\n",
       "2   3   -1.771376\n",
       "3   4   -1.944987\n",
       "4   5   -2.724440\n",
       "5   6   -2.612989\n",
       "6   7   -0.613615\n",
       "7   8   -2.420370\n",
       "8   9   -2.187510\n",
       "9  10   -1.300174"
      ]
     },
     "execution_count": 41,
     "metadata": {},
     "output_type": "execute_result"
    }
   ],
   "source": [
    "df.head(10)"
   ]
  },
  {
   "cell_type": "code",
   "execution_count": 43,
   "metadata": {
    "collapsed": false
   },
   "outputs": [
    {
     "data": {
      "text/plain": [
       "(51147, 2)"
      ]
     },
     "execution_count": 43,
     "metadata": {},
     "output_type": "execute_result"
    }
   ],
   "source": [
    "check = pd.read_csv(\"submit_anaconda.csv\")\n",
    "check.shape"
   ]
  },
  {
   "cell_type": "code",
   "execution_count": 24,
   "metadata": {
    "collapsed": false
   },
   "outputs": [
    {
     "data": {
      "text/html": [
       "<div>\n",
       "<table border=\"1\" class=\"dataframe\">\n",
       "  <thead>\n",
       "    <tr style=\"text-align: right;\">\n",
       "      <th></th>\n",
       "      <th>Id</th>\n",
       "      <th>Prediction</th>\n",
       "    </tr>\n",
       "  </thead>\n",
       "  <tbody>\n",
       "    <tr>\n",
       "      <th>0</th>\n",
       "      <td>1</td>\n",
       "      <td>-0.37570</td>\n",
       "    </tr>\n",
       "    <tr>\n",
       "      <th>1</th>\n",
       "      <td>2</td>\n",
       "      <td>-0.47766</td>\n",
       "    </tr>\n",
       "    <tr>\n",
       "      <th>2</th>\n",
       "      <td>3</td>\n",
       "      <td>-0.57434</td>\n",
       "    </tr>\n",
       "    <tr>\n",
       "      <th>3</th>\n",
       "      <td>4</td>\n",
       "      <td>-0.91493</td>\n",
       "    </tr>\n",
       "    <tr>\n",
       "      <th>4</th>\n",
       "      <td>5</td>\n",
       "      <td>-1.07820</td>\n",
       "    </tr>\n",
       "    <tr>\n",
       "      <th>5</th>\n",
       "      <td>6</td>\n",
       "      <td>-0.15605</td>\n",
       "    </tr>\n",
       "    <tr>\n",
       "      <th>6</th>\n",
       "      <td>7</td>\n",
       "      <td>0.17421</td>\n",
       "    </tr>\n",
       "    <tr>\n",
       "      <th>7</th>\n",
       "      <td>8</td>\n",
       "      <td>-0.49312</td>\n",
       "    </tr>\n",
       "    <tr>\n",
       "      <th>8</th>\n",
       "      <td>9</td>\n",
       "      <td>-0.63697</td>\n",
       "    </tr>\n",
       "    <tr>\n",
       "      <th>9</th>\n",
       "      <td>10</td>\n",
       "      <td>-1.75010</td>\n",
       "    </tr>\n",
       "  </tbody>\n",
       "</table>\n",
       "</div>"
      ],
      "text/plain": [
       "   Id  Prediction\n",
       "0   1    -0.37570\n",
       "1   2    -0.47766\n",
       "2   3    -0.57434\n",
       "3   4    -0.91493\n",
       "4   5    -1.07820\n",
       "5   6    -0.15605\n",
       "6   7     0.17421\n",
       "7   8    -0.49312\n",
       "8   9    -0.63697\n",
       "9  10    -1.75010"
      ]
     },
     "execution_count": 24,
     "metadata": {},
     "output_type": "execute_result"
    }
   ],
   "source": [
    "data = pd.read_csv(\"submit.csv\") # dataframe for data\n",
    "data.head(10)"
   ]
  },
  {
   "cell_type": "code",
   "execution_count": null,
   "metadata": {
    "collapsed": true
   },
   "outputs": [],
   "source": []
  }
 ],
 "metadata": {
  "kernelspec": {
   "display_name": "Python [Root]",
   "language": "python",
   "name": "Python [Root]"
  },
  "language_info": {
   "codemirror_mode": {
    "name": "ipython",
    "version": 2
   },
   "file_extension": ".py",
   "mimetype": "text/x-python",
   "name": "python",
   "nbconvert_exporter": "python",
   "pygments_lexer": "ipython2",
   "version": "2.7.12"
  }
 },
 "nbformat": 4,
 "nbformat_minor": 1
}
